{
 "cells": [
  {
   "cell_type": "code",
   "execution_count": 2,
   "id": "8c24549b-e1aa-49cc-bb61-23bdc6b91d6e",
   "metadata": {},
   "outputs": [
    {
     "name": "stderr",
     "output_type": "stream",
     "text": [
      "2023-03-08 12:41:29.912953: I tensorflow/core/platform/cpu_feature_guard.cc:193] This TensorFlow binary is optimized with oneAPI Deep Neural Network Library (oneDNN) to use the following CPU instructions in performance-critical operations:  SSE4.1 SSE4.2 AVX AVX2 FMA\n",
      "To enable them in other operations, rebuild TensorFlow with the appropriate compiler flags.\n"
     ]
    }
   ],
   "source": [
    "import numpy as np\n",
    "import qutip as qt\n",
    "from qutip import identity, sigmax, sigmay, sigmaz, tensor\n",
    "import matplotlib.pyplot as plt\n",
    "import tensorflow as tf\n",
    "from matplotlib import rc\n",
    "from matplotlib import cm\n",
    "import matplotlib as mpl\n",
    "rc('font',**{'family':'sans-serif','sans-serif':['Helvetica']})\n",
    "rc('font',**{'family':'serif','serif':['Times']})\n",
    "rc('text', usetex=True)\n",
    "import timeit\n",
    "import time\n",
    "\n"
   ]
  },
  {
   "cell_type": "code",
   "execution_count": 22,
   "id": "1fb2a385-b289-4b83-82b5-2e06c472f8ec",
   "metadata": {},
   "outputs": [],
   "source": [
    "def generate_random_L(H_dim):\n",
    "    L = tf.cast(tf.complex(np.random.uniform(-1,1,size=(H_dim,H_dim)),\n",
    "                               np.random.uniform(-1,1,size=(H_dim,H_dim))),\n",
    "                    dtype=tf.complex64)\n",
    "    trace_L = tf.linalg.trace(L)\n",
    "    traceless_L = L - (trace_L/H_dim)*tf.eye(num_rows=H_dim, dtype=tf.complex64)\n",
    "    return traceless_L\n",
    "\n",
    "def build_rho(Vars):\n",
    "    # Generate a random density matrix by using a cholesky composition and normalising\n",
    "    \n",
    "    # separate diagonal elements\n",
    "    diag_elems = tf.linalg.diag_part(Vars)\n",
    "    # make a matrix with these on the diag\n",
    "    diag_matrix = tf.linalg.diag(diag_elems) #+ tf.linalg.diag([0.001] * Var.shape[0])\n",
    "    # build a lower triangular form with real diagonals\n",
    "    real_lower_tri = (tf.linalg.LinearOperatorLowerTriangular(Vars).to_dense() - diag_matrix + tf.abs(diag_matrix))\n",
    "    # get the upper triangular half with zeros on the diagonal, to act as the complex part\n",
    "    im_lower_tri = (tf.linalg.LinearOperatorLowerTriangular(tf.transpose(Vars, perm=[1,0])).to_dense() - diag_matrix)  \n",
    "    # build L and L_dag\n",
    "    L = tf.complex(real=real_lower_tri, imag=im_lower_tri)\n",
    "    L_dag = tf.linalg.adjoint(L)\n",
    "    # get A\n",
    "    A = tf.cast(tf.matmul(L,L_dag), dtype=tf.complex64)\n",
    "    norm = tf.linalg.trace(A)\n",
    "    A_normed = A/norm\n",
    "    return A_normed\n",
    "\n",
    "def calculate_output(jump, targ_state, gamma=1):\n",
    "        output = gamma*(tf.matmul(tf.matmul(jump,targ_state),jump, adjoint_b=True) -\n",
    "                   (1/2)*(tf.matmul(tf.matmul(jump,jump, adjoint_a=True),targ_state)\n",
    "                         + tf.matmul(targ_state,tf.matmul(jump,jump, adjoint_a=True))))\n",
    "        dist = tf.reduce_sum(tf.abs(output)) \n",
    "        return dist\n",
    "    \n",
    "# real_elems = np.loadtxt(\"Best_GKP_jump_200_real_elems\")\n",
    "# imag_elems = np.loadtxt(\"Best_GKP_jump_200_imag_elems\")\n",
    "# best_jump = real_elems +1j*imag_elems"
   ]
  },
  {
   "cell_type": "code",
   "execution_count": 54,
   "id": "379ccb62-aaac-4c6d-9206-a7d73120b55e",
   "metadata": {},
   "outputs": [
    {
     "name": "stdout",
     "output_type": "stream",
     "text": [
      "Step: 1584, Dist: 0.008660435676574707\r"
     ]
    }
   ],
   "source": [
    "def find_steady_state(H_dim, jump_op, scheduler):\n",
    "    Vars = tf.Variable(np.random.uniform(-1,1,size=(H_dim, H_dim)))\n",
    "    optim_1 = tf.keras.optimizers.Adam(learning_rate=scheduler,\n",
    "                                      amsgrad=True)\n",
    "    cost_ls = []\n",
    "    steps=0\n",
    "    done=False\n",
    "    benchmark = 10000\n",
    "    cost_ls.append(benchmark)\n",
    "    while not done:\n",
    "        with tf.GradientTape() as tape:\n",
    "            tape.watch(Vars)\n",
    "            rho = build_rho(Vars)\n",
    "            dist = calculate_output(jump_op, rho) \n",
    "            cost_ls.append(dist) \n",
    "\n",
    "        grads = tape.gradient(dist, Vars)\n",
    "        optim_1.apply_gradients(zip([grads], [Vars]));\n",
    "        print(\"Step: {}, Dist: {}\".format(steps, dist), end='\\r')\n",
    "        steps+=1\n",
    "        if dist <benchmark:\n",
    "            best_rho = rho\n",
    "            best_vars = Vars\n",
    "            benchmark = dist\n",
    "            if benchmark<0.01:\n",
    "                done=True\n",
    "        if steps==2000:\n",
    "            done=True\n",
    "    return best_rho\n",
    "\n"
   ]
  },
  {
   "cell_type": "code",
   "execution_count": 73,
   "id": "77367973-83aa-414c-8342-1e5cf1a76ffc",
   "metadata": {},
   "outputs": [
    {
     "name": "stdout",
     "output_type": "stream",
     "text": [
      "Step: 1999, Dist: 5.638598918914795565\r"
     ]
    }
   ],
   "source": [
    "scheduler = tf.keras.optimizers.schedules.ExponentialDecay(0.1, \n",
    "                                                          decay_steps=50, \n",
    "                                                          decay_rate=0.98)\n",
    "H_dims = np.arange(1,12)*5\n",
    "num_runs = 10\n",
    "qutip_times = np.zeros((12,num_runs))\n",
    "gd_times = np.zeros((12,num_runs))\n",
    "gd_fidelities = np.zeros((12,num_runs))\n",
    "for i, H_dim in enumerate(H_dims):\n",
    "    for j in range(num_runs):\n",
    "        jump = generate_random_L(H_dim = H_dim)\n",
    "        L = qt.Qobj(jump.numpy())\n",
    "        Liouv = (qt.sprepost(L,L.dag()) - \n",
    "                 (1/2)*(qt.spre(L.dag()*L) + qt.spost(L.dag()*L)))\n",
    "        a = time.time()\n",
    "        true_ss = qt.steadystate(Liouv, method='eigen')\n",
    "        b = time.time()\n",
    "        qutip_times[i,j] = b-a\n",
    "        c = time.time()\n",
    "        best_rho = find_steady_state(H_dim=H_dim, jump_op=jump, scheduler = scheduler)\n",
    "        d = time.time()\n",
    "        gd_times[i,j] = d-c\n",
    "        best_guess= qt.Qobj(best_rho.numpy())\n",
    "        gd_fidelities[i,j] = qt.fidelity(best_guess, true_ss)"
   ]
  },
  {
   "cell_type": "code",
   "execution_count": 74,
   "id": "22359c1d-c10d-47b7-b737-deead1771d87",
   "metadata": {},
   "outputs": [],
   "source": [
    "np.savetxt(\"qt_times\", qutip_times)\n",
    "np.savetxt(\"gd_times\", gd_times)\n",
    "np.savetxt(\"gd_fidelities\", gd_fidelities)\n",
    "\n",
    "# fig, ax = plt.subplots(1,1)\n",
    "# extent = np.linspace(-5,5,200)\n",
    "# W = qt.distributions.wigner(normed_best_guess, xvec=extent, yvec=extent)\n",
    "# # qt.visualization.plot_wigner(targ_state_qt, colorbar=True, figsize = (5,5), alpha_max=4);\n",
    "# wlim = abs(W).max()\n",
    "# cmap = cm.get_cmap(\"RdBu\")\n",
    "# cf = ax.contourf(extent, extent, W, 100,\n",
    "#                          norm=mpl.colors.Normalize(-wlim, wlim), cmap=cmap)\n",
    "# # plt.imshow(W, cmap=cf, origin=\"lower\")\n",
    "# plt.colorbar(cf, ax=ax)\n",
    "# # plt.title(r\"$|0_L \\rangle$\", fontsize=20)\n",
    "\n",
    "# plt.ylabel(r\"$\\beta$\", fontsize=15)\n",
    "# plt.xlabel(r\"$\\alpha$\", fontsize=15)"
   ]
  },
  {
   "cell_type": "code",
   "execution_count": null,
   "id": "fe21e733-acce-4d60-a09c-de3f01b3e3be",
   "metadata": {},
   "outputs": [],
   "source": []
  },
  {
   "cell_type": "code",
   "execution_count": null,
   "id": "1086f00a-ea58-4f93-8199-07bbccfe7b44",
   "metadata": {},
   "outputs": [],
   "source": []
  }
 ],
 "metadata": {
  "kernelspec": {
   "display_name": "Python 3 (ipykernel)",
   "language": "python",
   "name": "python3"
  },
  "language_info": {
   "codemirror_mode": {
    "name": "ipython",
    "version": 3
   },
   "file_extension": ".py",
   "mimetype": "text/x-python",
   "name": "python",
   "nbconvert_exporter": "python",
   "pygments_lexer": "ipython3",
   "version": "3.10.9"
  }
 },
 "nbformat": 4,
 "nbformat_minor": 5
}
