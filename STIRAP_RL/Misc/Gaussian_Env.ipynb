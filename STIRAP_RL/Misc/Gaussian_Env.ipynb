{
 "cells": [
  {
   "cell_type": "code",
   "execution_count": 11,
   "metadata": {},
   "outputs": [],
   "source": [
    "import numpy as np \n",
    "import gym\n",
    "from gym import spaces\n",
    "\n",
    "import numpy as np\n",
    "import qutip as qt\n",
    "import scipy as sci\n",
    "import matplotlib.pyplot as plt\n",
    "\n",
    "import stable_baselines\n",
    "from stable_baselines.common.policies import MlpPolicy\n",
    "from stable_baselines import PPO1, PPO2, TD3, A2C, SAC\n",
    "from stable_baselines.deepq.policies import MlpPolicy as dqmlp\n",
    "from stable_baselines.deepq.dqn import DQN\n",
    "\n",
    "class GaussianEnv(gym.Env):\n",
    "    # Because of google colab, we cannot implement the GUI ('human' render mode)\n",
    "    metadata = {'render.modes': ['console']}\n",
    "    \n",
    "    def __init__(self, min_sigma, max_sigma, max_amplitude, \n",
    "                 omega_0, init_state_array, num_timesteps):\n",
    "        #The minimum variance for the gaussian distributions\n",
    "        # Must be something > 0, to avoid a discountinuous control function\n",
    "        self.min_sigma = min_sigma\n",
    "        self.max_sigma = max_sigma\n",
    "        \n",
    "        # Define maximum and minimum amplitudes for the Gaussians\n",
    "        self.max_amplitude = max_amplitude\n",
    "        \n",
    "        self.num_timesteps = num_timesteps\n",
    "        \n",
    "        self.action_space = gym.spaces.Box(low=-1,high=1,shape=(4,), dtype=np.float32)\n",
    "        self.observation_space = gym.spaces.Box(low=0, high=1, shape=(4,4), dtype=np.float32)\n",
    "        \n",
    "        self.omega_0 = omega_0\n",
    "        \n",
    "        self.init_state_array = init_state_array\n",
    "        self.num_timesteps = num_timesteps\n",
    "        \n",
    "        self.timestep_duration = (self.omega_0/40)/self.num_timesteps\n",
    "        \n",
    "    def reset(self):\n",
    "        self.state = self.init_state_array\n",
    "        self.done = False\n",
    "        self.params_array = np.zeros((self.num_timesteps, 5))\n",
    "        self.params_array[:,1], self.params_array[:,3] = 1,1\n",
    "        self.timestep = 0\n",
    "        self.populations = np.zeros((self.num_timesteps,3))\n",
    "        return self.state.astype(np.float32)\n",
    "    \n",
    "    def control_function(self, t, amplitudes, mus, sigmas):\n",
    "        \"\"\"\n",
    "        Defines a functions that uses a basis of gausssian functions to build other more complex functions\n",
    "        \"\"\"\n",
    "        vals = amplitudes*np.exp(-0.5*((t - mus)/sigmas)**2)\n",
    "        return np.sum(vals)\n",
    "    \n",
    "    \n",
    "    def step(self, action):\n",
    "        self.sigma_single_photon = ((action[0] + 1)/2)*self.max_sigma + self.min_sigma\n",
    "        self.amplitude_single_photon = np.clip(self.max_amplitude*action[1],-10,10)\n",
    "        \n",
    "        self.sigma_two_photon = ((action[2] + 1)/2)*self.max_sigma + self.min_sigma\n",
    "        self.amplitude_two_photon = np.clip(self.max_amplitude*action[3],-10,10)\n",
    "        \n",
    "        self.params_array[self.timestep,:] = np.array([ self.timestep*self.timestep_duration,\n",
    "                                                        self.sigma_single_photon,\n",
    "                                                        self.amplitude_single_photon,\n",
    "                                                        self.sigma_two_photon,\n",
    "                                                        self.amplitude_two_photon\n",
    "                                                    ])\n",
    "        \n",
    "        def deltap(t, *args):\n",
    "            x = self.omega_0*self.control_function(t, self.params_array[:,2], \n",
    "                                             self.params_array[:,0], \n",
    "                                                self.params_array[:,1])\n",
    "            return x\n",
    "        \n",
    "        def delta2(t, *args):\n",
    "            x = self.omega_0*self.control_function(t, self.params_array[:,4], \n",
    "                                             self.params_array[:,0], \n",
    "                                                self.params_array[:,3])\n",
    "            return x\n",
    "        gamma=0\n",
    "        times = np.linspace(0,self.timestep_duration,5)\n",
    "        coupling_h = (self.omega_0/2)*(qt.projection(4,1,0) + qt.projection(4,0,1)+\n",
    "                                  qt.projection(4,2,1) + qt.projection(4,1,2))\n",
    "        \n",
    "        h_deltap = qt.projection(4,1,1)\n",
    "        h_delta2 = qt.projection(4,2,2)\n",
    "        collapse_op = np.sqrt(gamma)*qt.projection(4,3,1)\n",
    "        input_state=qt.Qobj(self.state)\n",
    "        results = qt.mesolve(H = [coupling_h, [h_deltap, deltap], [h_delta2, delta2]],\n",
    "                            tlist = times, rho0= input_state, c_ops = collapse_op)\n",
    "        self.state = results.states[-1].full()\n",
    "        self.populations[self.timestep,:] = results.states[-1].diag()[:3]\n",
    "        # A measure of performance between 0 and 1\n",
    "        \n",
    "        info={}\n",
    "        \n",
    "        self.timestep+=1\n",
    "        reward = self.populations[-1,2]\n",
    "       \n",
    "        if self.timestep == self.num_timesteps:\n",
    "            self.done = True\n",
    "        done = self.done\n",
    "        return self.state.astype(np.float32), reward, done, info\n",
    "\n",
    "    def render(self, mode='console'):\n",
    "        pass\n",
    "    def close(self):\n",
    "        pass"
   ]
  },
  {
   "cell_type": "code",
   "execution_count": 14,
   "metadata": {},
   "outputs": [
    {
     "name": "stdout",
     "output_type": "stream",
     "text": [
      "********** Iteration 0 ************\n",
      "Optimizing...\n",
      "     pol_surr |    pol_entpen |       vf_loss |            kl |           ent\n",
      "     7.69e-05 |      -0.56787 |       0.00885 |      4.34e-05 |       5.67870\n",
      "     -0.00302 |      -0.56877 |       0.00681 |       0.00022 |       5.68768\n",
      "     -0.00676 |      -0.56967 |       0.00637 |       0.00059 |       5.69665\n",
      "     -0.01032 |      -0.57058 |       0.00516 |       0.00115 |       5.70581\n",
      "Evaluating losses...\n",
      "     -0.01331 |      -0.57114 |       0.00522 |       0.00161 |       5.71144\n",
      "----------------------------------\n",
      "| EpLenMean       | 10           |\n",
      "| EpRewMean       | 0.0595       |\n",
      "| EpThisIter      | 25           |\n",
      "| EpisodesSoFar   | 25           |\n",
      "| TimeElapsed     | 9.34         |\n",
      "| TimestepsSoFar  | 256          |\n",
      "| ev_tdlam_before | 0.15         |\n",
      "| loss_ent        | 5.711441     |\n",
      "| loss_kl         | 0.001605277  |\n",
      "| loss_pol_entpen | -0.5711441   |\n",
      "| loss_pol_surr   | -0.013306836 |\n",
      "| loss_vf_loss    | 0.005223321  |\n",
      "----------------------------------\n",
      "********** Iteration 1 ************\n",
      "Optimizing...\n",
      "     pol_surr |    pol_entpen |       vf_loss |            kl |           ent\n",
      "    -8.02e-05 |      -0.57136 |       0.00582 |      9.85e-06 |       5.71361\n",
      "     -0.00125 |      -0.57194 |       0.00458 |      7.93e-05 |       5.71943\n",
      "     -0.00320 |      -0.57248 |       0.00449 |       0.00029 |       5.72482\n",
      "     -0.00585 |      -0.57298 |       0.00461 |       0.00069 |       5.72978\n",
      "Evaluating losses...\n",
      "     -0.00823 |      -0.57329 |       0.00425 |       0.00106 |       5.73285\n",
      "----------------------------------\n",
      "| EpLenMean       | 10           |\n",
      "| EpRewMean       | 0.0639       |\n",
      "| EpThisIter      | 26           |\n",
      "| EpisodesSoFar   | 51           |\n",
      "| TimeElapsed     | 17.1         |\n",
      "| TimestepsSoFar  | 512          |\n",
      "| ev_tdlam_before | 0.439        |\n",
      "| loss_ent        | 5.732851     |\n",
      "| loss_kl         | 0.001060657  |\n",
      "| loss_pol_entpen | -0.5732851   |\n",
      "| loss_pol_surr   | -0.008233195 |\n",
      "| loss_vf_loss    | 0.0042471243 |\n",
      "----------------------------------\n",
      "********** Iteration 2 ************\n",
      "Optimizing...\n",
      "     pol_surr |    pol_entpen |       vf_loss |            kl |           ent\n",
      "      0.00015 |      -0.57339 |       0.01640 |      9.76e-06 |       5.73385\n",
      "     -0.00078 |      -0.57374 |       0.01593 |      5.56e-05 |       5.73744\n",
      "     -0.00248 |      -0.57416 |       0.01498 |       0.00013 |       5.74156\n",
      "     -0.00400 |      -0.57456 |       0.01379 |       0.00020 |       5.74557\n",
      "Evaluating losses...\n",
      "     -0.00483 |      -0.57480 |       0.01323 |       0.00026 |       5.74803\n",
      "-----------------------------------\n",
      "| EpLenMean       | 10            |\n",
      "| EpRewMean       | 0.0715        |\n",
      "| EpThisIter      | 25            |\n",
      "| EpisodesSoFar   | 76            |\n",
      "| TimeElapsed     | 24.7          |\n",
      "| TimestepsSoFar  | 768           |\n",
      "| ev_tdlam_before | 0.315         |\n",
      "| loss_ent        | 5.748035      |\n",
      "| loss_kl         | 0.0002573887  |\n",
      "| loss_pol_entpen | -0.57480353   |\n",
      "| loss_pol_surr   | -0.0048348196 |\n",
      "| loss_vf_loss    | 0.013226756   |\n",
      "-----------------------------------\n",
      "********** Iteration 3 ************\n",
      "Optimizing...\n",
      "     pol_surr |    pol_entpen |       vf_loss |            kl |           ent\n",
      "     -0.00014 |      -0.57487 |       0.00853 |      7.19e-07 |       5.74870\n",
      "     -0.00066 |      -0.57505 |       0.00832 |      1.18e-05 |       5.75052\n",
      "     -0.00186 |      -0.57525 |       0.00812 |      5.09e-05 |       5.75250\n",
      "     -0.00307 |      -0.57544 |       0.00793 |       0.00013 |       5.75436\n",
      "Evaluating losses...\n",
      "     -0.00399 |      -0.57555 |       0.00780 |       0.00019 |       5.75549\n",
      "-----------------------------------\n",
      "| EpLenMean       | 10            |\n",
      "| EpRewMean       | 0.0727        |\n",
      "| EpThisIter      | 26            |\n",
      "| EpisodesSoFar   | 102           |\n",
      "| TimeElapsed     | 32.3          |\n",
      "| TimestepsSoFar  | 1024          |\n",
      "| ev_tdlam_before | 0.481         |\n",
      "| loss_ent        | 5.7554855     |\n",
      "| loss_kl         | 0.00019463897 |\n",
      "| loss_pol_entpen | -0.5755486    |\n",
      "| loss_pol_surr   | -0.0039871447 |\n",
      "| loss_vf_loss    | 0.0078011854  |\n",
      "-----------------------------------\n"
     ]
    },
    {
     "data": {
      "text/plain": [
       "<stable_baselines.ppo1.pposgd_simple.PPO1 at 0x7fe924b04f98>"
      ]
     },
     "execution_count": 14,
     "metadata": {},
     "output_type": "execute_result"
    }
   ],
   "source": [
    "\n",
    "initial = np.zeros((4,4))\n",
    "initial[0,0]=1\n",
    "\n",
    "\n",
    "env = GaussianEnv(min_sigma=0.05, max_sigma=1, max_amplitude=10, omega_0=40,\n",
    "                 init_state_array=initial, num_timesteps=10)\n",
    "model = PPO1(policy=MlpPolicy, env=env, verbose=1, entcoeff=0.1, adam_epsilon=1e-3)\n",
    "\n",
    "model.learn(total_timesteps=1000)\n",
    "\n"
   ]
  },
  {
   "cell_type": "code",
   "execution_count": 15,
   "metadata": {},
   "outputs": [
    {
     "data": {
      "text/plain": [
       "[<matplotlib.lines.Line2D at 0x7fe9255a7518>]"
      ]
     },
     "execution_count": 15,
     "metadata": {},
     "output_type": "execute_result"
    },
    {
     "data": {
      "image/png": "[encoded data removed]",
      "text/plain": [
       "<Figure size 432x288 with 1 Axes>"
      ]
     },
     "metadata": {
      "needs_background": "light"
     },
     "output_type": "display_data"
    }
   ],
   "source": [
    "env.params_array\n",
    "\n",
    "def func1(t, *args):\n",
    "    x = env.omega_0*env.control_function(t, env.params_array[:,2],env.params_array[:,0], env.params_array[:,1])\n",
    "    return x\n",
    "\n",
    "def func2(t, *args):\n",
    "    x = env.omega_0*env.control_function(t, env.params_array[:,4],env.params_array[:,0], env.params_array[:,3])\n",
    "    return x\n",
    "\n",
    "\n",
    "\n",
    "times = np.linspace(0, env.omega_0/40, 100)\n",
    "plt.plot(times, [func1(t) for t in times])\n",
    "plt.plot(times, [func2(t) for t in times])"
   ]
  },
  {
   "cell_type": "code",
   "execution_count": 16,
   "metadata": {},
   "outputs": [],
   "source": [
    "times = np.linspace(0,env.omega_0/40,100)\n",
    "coupling_h = (env.omega_0/2)*(qt.projection(3,1,0) + qt.projection(3,0,1)+\n",
    "                          qt.projection(3,2,1) + qt.projection(3,1,2))\n",
    "\n",
    "h_deltap = qt.projection(3,1,1)\n",
    "h_delta2 = qt.projection(3,2,2)\n",
    "\n",
    "init_state = qt.fock_dm(3,0,0)\n",
    "results = qt.mesolve(H = [coupling_h, [h_deltap, func1], [h_delta2, func2]],\n",
    "                    tlist = times, rho0= init_state)\n",
    "populations =np.zeros((100,3))\n",
    "for i in range(100):\n",
    "    populations[i,:]= results.states[i].diag()[:]"
   ]
  },
  {
   "cell_type": "code",
   "execution_count": 17,
   "metadata": {},
   "outputs": [
    {
     "data": {
      "text/plain": [
       "<matplotlib.legend.Legend at 0x7fe925d93198>"
      ]
     },
     "execution_count": 17,
     "metadata": {},
     "output_type": "execute_result"
    },
    {
     "data": {
      "image/png": "[encoded data removed]",
      "text/plain": [
       "<Figure size 432x288 with 1 Axes>"
      ]
     },
     "metadata": {
      "needs_background": "light"
     },
     "output_type": "display_data"
    }
   ],
   "source": [
    "plt.plot(times, populations[:,0], label = \"1\")\n",
    "plt.plot(times, populations[:,1], label = \"2\")\n",
    "plt.plot(times, populations[:,2], label = \"3\")\n",
    "plt.legend()"
   ]
  },
  {
   "cell_type": "code",
   "execution_count": 10,
   "metadata": {},
   "outputs": [],
   "source": [
    "x = np.arange(4)"
   ]
  },
  {
   "cell_type": "code",
   "execution_count": null,
   "metadata": {},
   "outputs": [],
   "source": [
    "np.concatenate((x, np.array([8])))"
   ]
  },
  {
   "cell_type": "code",
   "execution_count": null,
   "metadata": {},
   "outputs": [],
   "source": [
    "qt.projection(4,3,1)"
   ]
  },
  {
   "cell_type": "code",
   "execution_count": null,
   "metadata": {},
   "outputs": [],
   "source": []
  }
 ],
 "metadata": {
  "kernelspec": {
   "display_name": "Python 3 (ipykernel)",
   "language": "python",
   "name": "python3"
  },
  "language_info": {
   "codemirror_mode": {
    "name": "ipython",
    "version": 3
   },
   "file_extension": ".py",
   "mimetype": "text/x-python",
   "name": "python",
   "nbconvert_exporter": "python",
   "pygments_lexer": "ipython3",
   "version": "3.10.9"
  },
  "latex_envs": {
   "LaTeX_envs_menu_present": true,
   "autoclose": true,
   "autocomplete": true,
   "bibliofile": "biblio.bib",
   "cite_by": "apalike",
   "current_citInitial": 1,
   "eqLabelWithNumbers": true,
   "eqNumInitial": 1,
   "hotkeys": {
    "equation": "Ctrl-E",
    "itemize": "Ctrl-I"
   },
   "labels_anchors": false,
   "latex_user_defs": false,
   "report_style_numbering": false,
   "user_envs_cfg": false
  }
 },
 "nbformat": 4,
 "nbformat_minor": 4
}
